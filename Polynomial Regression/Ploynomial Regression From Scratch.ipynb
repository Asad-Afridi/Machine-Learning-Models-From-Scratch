{
 "cells": [
  {
   "cell_type": "markdown",
   "metadata": {},
   "source": [
    "## Importing Libraries"
   ]
  },
  {
   "cell_type": "code",
   "execution_count": 175,
   "metadata": {},
   "outputs": [],
   "source": [
    "import numpy as np\n",
    "import pandas as pd\n",
    "import matplotlib.pyplot as plt"
   ]
  },
  {
   "cell_type": "markdown",
   "metadata": {},
   "source": [
    "## Implementing Polynomial Regression Model"
   ]
  },
  {
   "cell_type": "code",
   "execution_count": 176,
   "metadata": {},
   "outputs": [],
   "source": [
    "class PolynomialRegression():\n",
    "    def __init__(self, lr = 0.001, epochs = 1000, degree = 2):\n",
    "        self.lr = lr\n",
    "        self.epochs = epochs\n",
    "        self.degree = degree\n",
    "        self.weights = None\n",
    "        self.bias = None\n",
    "        \n",
    "    def _generate_polynomial_features(self,X):\n",
    "        X = X.reshape(X.shape[0],1)\n",
    "        X_poly = X.reshape(X.shape[0],1)\n",
    "        for deg in range(2, self.degree+1):\n",
    "            X_poly = np.concatenate((X_poly, X**deg), axis = 1)\n",
    "        return X_poly\n",
    "    \n",
    "    def fit(self, X, y):\n",
    "        X_poly = self._generate_polynomial_features(X)\n",
    "        n_samples, n_features = X_poly.shape\n",
    "        self.weights = np.zeros(n_features)\n",
    "        self.bias = 0\n",
    "        cost = []\n",
    "        it = []\n",
    "        \n",
    "        for i in range(self.epochs):\n",
    "            y_pred = np.dot(X_poly,self.weights) + self.bias\n",
    "            cost.append(np.sum((y_pred - y)**2)/n_samples)\n",
    "            it.append(i+1)\n",
    "            dw = (1 / n_samples) * np.dot(X_poly.T, (y_pred.T - y))\n",
    "            db = np.sum(y_pred.T - y) / n_samples\n",
    "            \n",
    "            self.weights = self.weights - (self.lr * dw)\n",
    "            self.bias = self.bias - (self.lr * db)\n",
    "            \n",
    "            plt.plot(it,cost,color = 'r')\n",
    "    def predict(self,X):\n",
    "        X_poly = self._generate_polynomial_features(X)\n",
    "        \n",
    "        y_pred = np.dot(X_poly, self.weights) + self.bias\n",
    "        return y_pred\n",
    "    "
   ]
  },
  {
   "cell_type": "markdown",
   "metadata": {},
   "source": [
    "## Import Dataset"
   ]
  },
  {
   "cell_type": "code",
   "execution_count": 177,
   "metadata": {},
   "outputs": [
    {
     "data": {
      "text/plain": [
       "<matplotlib.collections.PathCollection at 0x1da39b4bac0>"
      ]
     },
     "execution_count": 177,
     "metadata": {},
     "output_type": "execute_result"
    },
    {
     "data": {
      "image/png": "[encoded data removed]",
      "text/plain": [
       "<Figure size 432x288 with 1 Axes>"
      ]
     },
     "metadata": {
      "needs_background": "light"
     },
     "output_type": "display_data"
    }
   ],
   "source": [
    "# dataset = pd.read_csv('Position_Salaries.csv')\n",
    "# X = dataset.iloc[:, 1:2].values\n",
    "# y = dataset.iloc[:, -1].values\n",
    "X = 6 * np.random.rand(100,1) - 3\n",
    "y = (0.5 * X**2 + 1.5*X + 2 + np.random.rand(100,1))\n",
    "y = y[:,0]\n",
    "plt.scatter(X,y,color = 'g')"
   ]
  },
  {
   "cell_type": "markdown",
   "metadata": {},
   "source": [
    "## Splitting Data into Training and Test Sets"
   ]
  },
  {
   "cell_type": "code",
   "execution_count": 178,
   "metadata": {},
   "outputs": [],
   "source": [
    "# As our dataset contains only 10 examples don't split the data into training and test set just do the training\n",
    "# See if the model can fit to the data or not"
   ]
  },
  {
   "cell_type": "markdown",
   "metadata": {},
   "source": [
    "## Fitting Polynomial Regression model to the dataset"
   ]
  },
  {
   "cell_type": "code",
   "execution_count": 179,
   "metadata": {},
   "outputs": [
    {
     "name": "stdout",
     "output_type": "stream",
     "text": [
      "Y pred\n",
      " [ 4.17692395  3.3654257   1.99923452  2.11395642  1.49779458  9.7938952\n",
      "  2.8536959   1.53324302  8.57827354  9.79647884  4.48196577  1.48331845\n",
      "  2.01509368  1.74741245 11.15063473  1.95184127  1.48688486  6.50017485\n",
      "  1.57918541  1.45294891  5.8946526   9.94571362  1.43697076  5.27896864\n",
      "  3.58810378  6.91530412  1.57361     2.80296235  2.61058903  9.72168315\n",
      "  1.71935576  4.07919399  3.70637339  9.92059477  1.9449959   2.91829625\n",
      " 10.43574534  4.94119257  7.62551977  4.47263771  4.46628473  1.5540335\n",
      "  5.22488263  1.54825048  8.59818164  1.40536964  1.42341093  5.39979851\n",
      "  7.71343564  1.61339826  1.69234183  3.0588594   2.19707461  1.58140014\n",
      "  1.42037913  4.05653871  8.0941419   1.83869441 11.03946416  5.78114957\n",
      "  2.19941973  7.304287    3.8735548   2.41684375  5.99981866 10.0359818\n",
      "  2.50627254  1.49806069  6.42095263  7.59652462  8.86191667  2.28909853\n",
      "  6.69283579  1.63611321  7.77642763  1.4750681   1.64312346  3.08029458\n",
      "  9.10609284  2.60169696  1.73467129  2.29027434  2.01225662  3.33671845\n",
      "  6.17084063  7.21570001  2.34493039  1.40767502  4.31782167  2.05075311\n",
      "  1.4789895   2.00462342  1.85203627 11.23460427  5.91783784  3.77455074\n",
      "  6.27805997  6.67297419  7.40503413  2.45697724] \n",
      " Y \n",
      " [ 4.57912132  3.20111398  1.85099561  2.5035859   1.98222202  9.42539187\n",
      "  2.58231517  1.35153422  8.74692802 10.09138071  4.03675391  1.07899876\n",
      "  2.26701751  1.4285019  10.91049636  2.2815745   1.50210843  6.64812251\n",
      "  1.28694197  1.78002395  6.11641932  9.98539498  1.17751578  4.91619177\n",
      "  3.35309778  7.33921919  1.20905656  2.87027084  2.64725467 10.19422924\n",
      "  1.89354978  4.02081865  3.27684933  9.59584033  2.24246806  2.79260713\n",
      " 10.13896163  4.9198927   8.14837247  4.49116955  4.66152782  1.96280056\n",
      "  5.22533091  1.69404495  8.36517542  1.77703735  1.8202773   5.56044475\n",
      "  8.00328237  2.03830949  1.5671134   2.95598523  2.39347917  1.97001799\n",
      "  0.99405366  4.51182421  8.45275876  1.60034522 10.68462388  6.113803\n",
      "  1.74930163  7.07800242  3.78492032  2.17657831  6.1399404  10.4864668\n",
      "  2.01458176  1.63032818  6.1497872   7.31352085  8.76029181  2.16180304\n",
      "  6.8130742   2.13088524  7.3918628   0.95950444  2.06395879  3.53431541\n",
      "  9.60889158  2.64122112  1.18732999  2.03184596  2.18200496  3.73007931\n",
      "  5.75977352  7.29441601  1.82936893  1.11340728  4.69992618  1.81822673\n",
      "  1.54376876  2.03318957  1.50250122 11.36301522  5.46140469  4.04891409\n",
      "  6.15269022  6.43340651  6.99195233  2.78665138]\n"
     ]
    },
    {
     "data": {
      "image/png": "[encoded data removed]",
      "text/plain": [
       "<Figure size 432x288 with 1 Axes>"
      ]
     },
     "metadata": {
      "needs_background": "light"
     },
     "output_type": "display_data"
    }
   ],
   "source": [
    "poly_regressor = PolynomialRegression(lr = 0.1,epochs = 1000,degree = 2)\n",
    "poly_regressor.fit(X,y)\n",
    "y_pred = poly_regressor.predict(X)\n",
    "cost = 1/ X.shape[0] * (np.sum(np.power((y_pred-y),2)))\n",
    "print('Y pred\\n',y_pred,'\\n Y \\n',y)"
   ]
  },
  {
   "cell_type": "markdown",
   "metadata": {},
   "source": [
    "## Visualizing the Training Result"
   ]
  },
  {
   "cell_type": "code",
   "execution_count": 180,
   "metadata": {},
   "outputs": [
    {
     "data": {
      "image/png": "[encoded data removed]",
      "text/plain": [
       "<Figure size 432x288 with 1 Axes>"
      ]
     },
     "metadata": {
      "needs_background": "light"
     },
     "output_type": "display_data"
    }
   ],
   "source": [
    "# Sort the data for proper plotting\n",
    "sorted_indices = np.argsort(X.flatten())\n",
    "X_sorted = X.flatten()[sorted_indices]\n",
    "y_pred_sorted = y_pred[sorted_indices]\n",
    "\n",
    "plt.scatter(X, y, color = 'red')\n",
    "plt.plot(X_sorted,y_pred_sorted, color = 'b')\n",
    "plt.title('Truth or Bluff (Polynomial Regression)')\n",
    "plt.xlabel('Position Lavel')\n",
    "plt.ylabel('Salary')\n",
    "plt.show()"
   ]
  },
  {
   "cell_type": "code",
   "execution_count": null,
   "metadata": {},
   "outputs": [],
   "source": []
  }
 ],
 "metadata": {
  "kernelspec": {
   "display_name": "Python 3",
   "language": "python",
   "name": "python3"
  },
  "language_info": {
   "codemirror_mode": {
    "name": "ipython",
    "version": 3
   },
   "file_extension": ".py",
   "mimetype": "text/x-python",
   "name": "python",
   "nbconvert_exporter": "python",
   "pygments_lexer": "ipython3",
   "version": "3.8.5"
  }
 },
 "nbformat": 4,
 "nbformat_minor": 4
}
